{
  "nbformat": 4,
  "nbformat_minor": 0,
  "metadata": {
    "colab": {
      "provenance": [],
      "collapsed_sections": [],
      "include_colab_link": true
    },
    "kernelspec": {
      "name": "python3",
      "display_name": "Python 3"
    },
    "language_info": {
      "name": "python"
    }
  },
  "cells": [
    {
      "cell_type": "markdown",
      "metadata": {
        "id": "view-in-github",
        "colab_type": "text"
      },
      "source": [
        "<a href=\"https://colab.research.google.com/github/KRP777X/GDP-PROJECTIONS/blob/main/Copy_of_GDP_project.ipynb\" target=\"_parent\"><img src=\"https://colab.research.google.com/assets/colab-badge.svg\" alt=\"Open In Colab\"/></a>"
      ]
    },
    {
      "cell_type": "code",
      "execution_count": null,
      "metadata": {
        "id": "L2CSeUbN_Zrh",
        "colab": {
          "base_uri": "https://localhost:8080/"
        },
        "outputId": "ac6b2655-305c-43f4-9926-dcb1cc878aa2"
      },
      "outputs": [
        {
          "output_type": "stream",
          "name": "stdout",
          "text": [
            "Looking in indexes: https://pypi.org/simple, https://us-python.pkg.dev/colab-wheels/public/simple/\n",
            "Requirement already satisfied: tvdatafeed in /usr/local/lib/python3.7/dist-packages (2.1.0)\n",
            "Requirement already satisfied: setuptools in /usr/local/lib/python3.7/dist-packages (from tvdatafeed) (57.4.0)\n",
            "Requirement already satisfied: pandas in /usr/local/lib/python3.7/dist-packages (from tvdatafeed) (1.3.5)\n",
            "Requirement already satisfied: requests in /usr/local/lib/python3.7/dist-packages (from tvdatafeed) (2.23.0)\n",
            "Requirement already satisfied: websocket-client in /usr/local/lib/python3.7/dist-packages (from tvdatafeed) (1.4.1)\n",
            "Requirement already satisfied: pytz>=2017.3 in /usr/local/lib/python3.7/dist-packages (from pandas->tvdatafeed) (2022.4)\n",
            "Requirement already satisfied: numpy>=1.17.3 in /usr/local/lib/python3.7/dist-packages (from pandas->tvdatafeed) (1.21.6)\n",
            "Requirement already satisfied: python-dateutil>=2.7.3 in /usr/local/lib/python3.7/dist-packages (from pandas->tvdatafeed) (2.8.2)\n",
            "Requirement already satisfied: six>=1.5 in /usr/local/lib/python3.7/dist-packages (from python-dateutil>=2.7.3->pandas->tvdatafeed) (1.15.0)\n",
            "Requirement already satisfied: chardet<4,>=3.0.2 in /usr/local/lib/python3.7/dist-packages (from requests->tvdatafeed) (3.0.4)\n",
            "Requirement already satisfied: idna<3,>=2.5 in /usr/local/lib/python3.7/dist-packages (from requests->tvdatafeed) (2.10)\n",
            "Requirement already satisfied: certifi>=2017.4.17 in /usr/local/lib/python3.7/dist-packages (from requests->tvdatafeed) (2022.9.24)\n",
            "Requirement already satisfied: urllib3!=1.25.0,!=1.25.1,<1.26,>=1.21.1 in /usr/local/lib/python3.7/dist-packages (from requests->tvdatafeed) (1.24.3)\n"
          ]
        }
      ],
      "source": [
        "pip install tvdatafeed\n"
      ]
    },
    {
      "cell_type": "code",
      "source": [
        "import numpy as np\n",
        "import pandas as pd\n",
        "#import yfinance as yf\n",
        "from statsmodels.tsa.arima_model import ARIMA\n",
        "import matplotlib.pyplot as plt                                                                          #Loading important libraries \n",
        "from matplotlib.pylab import rcParams\n",
        "rcParams['figure.figsize'] = 15, 12\n",
        "from tvDatafeed import TvDatafeed, Interval\n",
        "tv = TvDatafeed('aotleviackerman317','Sm$ge.L#e9FP5uF')"
      ],
      "metadata": {
        "id": "d2sjsRGDCkOO"
      },
      "execution_count": null,
      "outputs": []
    },
    {
      "cell_type": "code",
      "source": [
        "ticker = ['ECONOMICS:CHPOP']\n",
        "lag = input('Value of Lags = ') # Only 1 or 2, But use 1 = Value of D                   1                    #Giving Values\n",
        "Forecast_Years = int(input('Value of Years = '))\n"
      ],
      "metadata": {
        "colab": {
          "base_uri": "https://localhost:8080/"
        },
        "id": "BBSVwibEGRTR",
        "outputId": "bf1d6b62-d52f-46e8-942a-2c497c4c5dfc"
      },
      "execution_count": null,
      "outputs": [
        {
          "name": "stdout",
          "output_type": "stream",
          "text": [
            "Value of Lags = 2\n",
            "Value of Years = 300\n"
          ]
        }
      ]
    },
    {
      "cell_type": "code",
      "source": [
        "Names = []\n",
        "for i in range(len(ticker)):\n",
        "  Names.append('th{name}'.format(name = i))\n",
        "gh = pd.DataFrame()\n",
        "Data = []\n",
        "for i in range(len(ticker)):                                                                                #importing data using TradingView library \n",
        "  th = tv.get_hist(symbol= ticker[i], n_bars = 10000000000)\n",
        "  gh[ticker[i]] = th['close']\n",
        "  Data.append(gh)\n",
        "df = Data[0]"
      ],
      "metadata": {
        "id": "pFktmGuU_dok"
      },
      "execution_count": null,
      "outputs": []
    },
    {
      "cell_type": "code",
      "source": [
        "from statsmodels.tsa.stattools import adfuller\n",
        "\n",
        "def test_stationarity(ts):\n",
        "\n",
        "  TR = []  \n",
        "\n",
        "  for i in range(len(ticker)):\n",
        "    hm = ts.iloc[:,i].to_frame()\n",
        "\n",
        "    #Determining rolling statistics\n",
        "\n",
        "    MovingAverage = hm.rolling(window = 5).mean()\n",
        "    MovingSTD = hm.rolling(window = 5).std()\n",
        "\n",
        "    #Plot rolling statistics\n",
        "   \n",
        "    plt.figure(figsize = (4,3))\n",
        "    plt.title('Rolling mean and STD')\n",
        "    plt.plot(hm, color= 'blue', label = 'Price')\n",
        "    plt.plot(MovingAverage, color= 'red', label = 'MA')                                                                             #Adfuller test code\n",
        "    plt.plot(MovingSTD, color= 'black', label = 'STD')\n",
        "    plt.legend(loc = 'best')\n",
        "    plt.grid()\n",
        "    plt.show()\n",
        "\n",
        "    #Perform Dickey fuller test\n",
        "\n",
        "    print('Results of dickey fuller test {name}'.format(name = ticker[i]))\n",
        "    dftest = adfuller(hm, autolag = 'AIC')\n",
        "    dfoutput = pd.Series(dftest[0:4], index = ['Test Statistics', 'P Value', 'Lags Used', 'Number of observations used'])\n",
        "\n",
        "    for key,value in dftest[4].items():\n",
        "      dfoutput['Critical Value (%s)'%key] = value\n",
        "\n",
        "    TR.append(dfoutput)\n",
        "\n",
        "  TR = pd.DataFrame(TR, index = ticker)\n",
        "  print(TR)"
      ],
      "metadata": {
        "id": "f3ubFBhxC2HD"
      },
      "execution_count": null,
      "outputs": []
    },
    {
      "cell_type": "code",
      "source": [
        "test_stationarity(df)"
      ],
      "metadata": {
        "colab": {
          "base_uri": "https://localhost:8080/",
          "height": 393
        },
        "id": "Ev3ZVbKUHxNS",
        "outputId": "1ddb1853-904d-42aa-d9e1-d84cba89b0d1"
      },
      "execution_count": null,
      "outputs": [
        {
          "output_type": "display_data",
          "data": {
            "text/plain": [
              "<Figure size 288x216 with 1 Axes>"
            ],
            "image/png": "[encoded data removed]"
          },
          "metadata": {
            "needs_background": "light"
          }
        },
        {
          "output_type": "stream",
          "name": "stdout",
          "text": [
            "Results of dickey fuller test ECONOMICS:CHPOP\n",
            "                 Test Statistics  P Value  Lags Used  \\\n",
            "ECONOMICS:CHPOP         0.148486  0.96922        1.0   \n",
            "\n",
            "                 Number of observations used  Critical Value (1%)  \\\n",
            "ECONOMICS:CHPOP                         60.0            -3.544369   \n",
            "\n",
            "                 Critical Value (5%)  Critical Value (10%)  \n",
            "ECONOMICS:CHPOP            -2.911073              -2.59319  \n"
          ]
        }
      ]
    },
    {
      "cell_type": "code",
      "source": [
        "dflogscale = []\n",
        "for i in range(len(ticker)):\n",
        "\n",
        "  hf = df.iloc[:,i]\n",
        "  \n",
        "  df_logscale = np.log(hf)\n",
        "  movingaveragelog = df_logscale.rolling(window = 5).mean()\n",
        "  dflogscale.append(df_logscale)\n",
        "                                                                                                 #Checking stationarity of the log graph\n",
        "  plt.figure(figsize = (4,3))\n",
        "  plt.title('Rolling mean and STD')\n",
        "  plt.plot(df_logscale, color= 'blue', label = 'Price')\n",
        "  plt.plot(movingaveragelog, color= 'red', label = 'MA')\n",
        "  plt.legend(loc = 'best')\n",
        "  plt.grid()\n",
        "  plt.show()"
      ],
      "metadata": {
        "colab": {
          "base_uri": "https://localhost:8080/",
          "height": 227
        },
        "id": "D8Unz_n9QsKp",
        "outputId": "1360e437-b1f4-49c7-d94e-d5cf3eb5b1dc"
      },
      "execution_count": null,
      "outputs": [
        {
          "output_type": "display_data",
          "data": {
            "text/plain": [
              "<Figure size 288x216 with 1 Axes>"
            ],
            "image/png": "[encoded data removed]"
          },
          "metadata": {
            "needs_background": "light"
          }
        }
      ]
    },
    {
      "cell_type": "code",
      "source": [
        "dflogscale = pd.DataFrame(dflogscale)\n",
        "dflogscale = dflogscale.transpose()\n"
      ],
      "metadata": {
        "id": "okCDKPgvX1On"
      },
      "execution_count": null,
      "outputs": []
    },
    {
      "cell_type": "code",
      "source": [
        "df_logdiffshift = dflogscale - dflogscale.shift()\n",
        "df_logdiffshift.dropna(inplace = True)"
      ],
      "metadata": {
        "id": "zI-m-60XW6z7"
      },
      "execution_count": null,
      "outputs": []
    },
    {
      "cell_type": "code",
      "source": [
        "test_stationarity(df_logdiffshift)                                                                   #Checking stationarity with lag = 1, Now the data is stationary "
      ],
      "metadata": {
        "colab": {
          "base_uri": "https://localhost:8080/",
          "height": 393
        },
        "id": "VyFT95KqYvEQ",
        "outputId": "95d6b88e-9e03-4d0d-abf6-ac1b7353ec7f"
      },
      "execution_count": null,
      "outputs": [
        {
          "output_type": "display_data",
          "data": {
            "text/plain": [
              "<Figure size 288x216 with 1 Axes>"
            ],
            "image/png": "[encoded data removed]"
          },
          "metadata": {
            "needs_background": "light"
          }
        },
        {
          "output_type": "stream",
          "name": "stdout",
          "text": [
            "Results of dickey fuller test ECONOMICS:CHPOP\n",
            "                 Test Statistics   P Value  Lags Used  \\\n",
            "ECONOMICS:CHPOP        -2.770099  0.062673        0.0   \n",
            "\n",
            "                 Number of observations used  Critical Value (1%)  \\\n",
            "ECONOMICS:CHPOP                         60.0            -3.544369   \n",
            "\n",
            "                 Critical Value (5%)  Critical Value (10%)  \n",
            "ECONOMICS:CHPOP            -2.911073              -2.59319  \n"
          ]
        }
      ]
    },
    {
      "cell_type": "code",
      "source": [
        "df_logdiffshift2 = df_logdiffshift - df_logdiffshift.shift()\n",
        "df_logdiffshift2.dropna(inplace = True)"
      ],
      "metadata": {
        "id": "mjLGEcJMY0nG"
      },
      "execution_count": null,
      "outputs": []
    },
    {
      "cell_type": "code",
      "source": [
        "test_stationarity(df_logdiffshift2)                                              #Checking stationarity with lag = 2"
      ],
      "metadata": {
        "colab": {
          "base_uri": "https://localhost:8080/",
          "height": 393
        },
        "id": "YNA37okbZK6b",
        "outputId": "9b27ae27-4ca7-4f6f-9762-d97fdd061337"
      },
      "execution_count": null,
      "outputs": [
        {
          "output_type": "display_data",
          "data": {
            "text/plain": [
              "<Figure size 288x216 with 1 Axes>"
            ],
            "image/png": "[encoded data removed]"
          },
          "metadata": {
            "needs_background": "light"
          }
        },
        {
          "output_type": "stream",
          "name": "stdout",
          "text": [
            "Results of dickey fuller test ECONOMICS:CHPOP\n",
            "                 Test Statistics       P Value  Lags Used  \\\n",
            "ECONOMICS:CHPOP        -9.488708  3.702353e-16        0.0   \n",
            "\n",
            "                 Number of observations used  Critical Value (1%)  \\\n",
            "ECONOMICS:CHPOP                         59.0            -3.546395   \n",
            "\n",
            "                 Critical Value (5%)  Critical Value (10%)  \n",
            "ECONOMICS:CHPOP            -2.911939             -2.593652  \n"
          ]
        }
      ]
    },
    {
      "cell_type": "code",
      "source": [
        "#ACF and PACF PLOT\n",
        "ACF = []\n",
        "PACF = []\n",
        "\n",
        "for i in range(len(ticker)):\n",
        "\n",
        "  from statsmodels.tsa.stattools import acf , pacf\n",
        "\n",
        "  lag_acf = acf(df_logdiffshift2.iloc[:, i], nlags=30)\n",
        "  lag_pacf = pacf(df_logdiffshift2.iloc[:, i], nlags=10, method = 'ols')\n",
        "\n",
        "  ACF.append(lag_acf)\n",
        "  PACF.append(lag_pacf)\n",
        "\n",
        "  plt.figure(figsize = (4,3))\n",
        "  plt.plot(lag_acf)\n",
        "  plt.plot(lag_pacf)\n",
        "  plt.axhline(y=0)"
      ],
      "metadata": {
        "colab": {
          "base_uri": "https://localhost:8080/",
          "height": 248
        },
        "id": "Qf8q5XTsZrlY",
        "outputId": "62444997-794c-4f50-e2bd-1761cea3b904"
      },
      "execution_count": null,
      "outputs": [
        {
          "output_type": "stream",
          "name": "stderr",
          "text": [
            "/usr/local/lib/python3.7/dist-packages/statsmodels/tsa/stattools.py:671: FutureWarning: fft=True will become the default after the release of the 0.12 release of statsmodels. To suppress this warning, explicitly set fft=False.\n",
            "  FutureWarning,\n"
          ]
        },
        {
          "output_type": "display_data",
          "data": {
            "text/plain": [
              "<Figure size 288x216 with 1 Axes>"
            ],
            "image/png": "[encoded data removed]"
          },
          "metadata": {
            "needs_background": "light"
          }
        }
      ]
    },
    {
      "cell_type": "code",
      "source": [
        "AP = pd.DataFrame(ACF)\n",
        "AP = AP.transpose()\n",
        "PP = pd.DataFrame(PACF)\n",
        "PP = PP.transpose()"
      ],
      "metadata": {
        "id": "vq02ouK5aygp"
      },
      "execution_count": null,
      "outputs": []
    },
    {
      "cell_type": "code",
      "source": [
        "#Finding P and Q value\n",
        "Final_ACF = []\n",
        "for z in range(len(ticker)):\n",
        "  ER = AP.iloc[:,z].to_list()\n",
        "  for i in ER:\n",
        "    if i<0:\n",
        "      Final_ACF.append(ER.index(i))\n",
        "      break\n",
        "Final_PACF = []\n",
        "for z in range(len(ticker)):\n",
        "  EN = PP.iloc[:,z].to_list()\n",
        "  for i in EN:\n",
        "    if i<0:\n",
        "      Final_PACF.append(EN.index(i))\n",
        "      break"
      ],
      "metadata": {
        "id": "DUodOYmzeLJO"
      },
      "execution_count": null,
      "outputs": []
    },
    {
      "cell_type": "code",
      "source": [
        "Final_ACF"
      ],
      "metadata": {
        "colab": {
          "base_uri": "https://localhost:8080/"
        },
        "id": "mYGKAoErkKKz",
        "outputId": "e89dbc2c-9a05-48cb-ac51-818698f99aca"
      },
      "execution_count": null,
      "outputs": [
        {
          "output_type": "execute_result",
          "data": {
            "text/plain": [
              "[1]"
            ]
          },
          "metadata": {},
          "execution_count": 368
        }
      ]
    },
    {
      "cell_type": "code",
      "source": [
        "Final_PACF"
      ],
      "metadata": {
        "colab": {
          "base_uri": "https://localhost:8080/"
        },
        "id": "7wKJ0v2DkPdA",
        "outputId": "843bf4c2-f590-4f9c-8c32-faaa0eeb9c70"
      },
      "execution_count": null,
      "outputs": [
        {
          "output_type": "execute_result",
          "data": {
            "text/plain": [
              "[1]"
            ]
          },
          "metadata": {},
          "execution_count": 369
        }
      ]
    },
    {
      "cell_type": "code",
      "source": [
        "from statsmodels.tsa.arima_model import ARIMA\n",
        "\n",
        "hsd = []\n",
        "\n",
        "for i in range(len(ticker)):\n",
        "\n",
        "  p = int(Final_ACF[i])\n",
        "  q = int(Final_PACF[i])\n",
        "  d = int(lag)\n",
        "\n",
        "  isd = dflogscale.iloc[:,i].to_frame()\n",
        "\n",
        "  model = ARIMA(isd, order = (p, d, q))\n",
        "  results_AR = model.fit(transparams=False)                              #Fitting the model\n",
        "\n",
        "  e = int(Forecast_Years)\n",
        "\n",
        "  tf = results_AR.forecast(e)\n",
        "  tf = np.exp(tf[0])\n",
        "  hsd.append(tf)"
      ],
      "metadata": {
        "colab": {
          "base_uri": "https://localhost:8080/"
        },
        "id": "Pnv9ie2pktHo",
        "outputId": "c55285c3-d99c-487e-9576-ed0860da9ab0"
      },
      "execution_count": null,
      "outputs": [
        {
          "output_type": "stream",
          "name": "stderr",
          "text": [
            "/usr/local/lib/python3.7/dist-packages/statsmodels/tsa/arima_model.py:472: FutureWarning: \n",
            "statsmodels.tsa.arima_model.ARMA and statsmodels.tsa.arima_model.ARIMA have\n",
            "been deprecated in favor of statsmodels.tsa.arima.model.ARIMA (note the .\n",
            "between arima and model) and\n",
            "statsmodels.tsa.SARIMAX. These will be removed after the 0.12 release.\n",
            "\n",
            "statsmodels.tsa.arima.model.ARIMA makes use of the statespace framework and\n",
            "is both well tested and maintained.\n",
            "\n",
            "To silence this warning and continue using ARMA and ARIMA until they are\n",
            "removed, use:\n",
            "\n",
            "import warnings\n",
            "warnings.filterwarnings('ignore', 'statsmodels.tsa.arima_model.ARMA',\n",
            "                        FutureWarning)\n",
            "warnings.filterwarnings('ignore', 'statsmodels.tsa.arima_model.ARIMA',\n",
            "                        FutureWarning)\n",
            "\n",
            "  warnings.warn(ARIMA_DEPRECATION_WARN, FutureWarning)\n",
            "/usr/local/lib/python3.7/dist-packages/statsmodels/tsa/base/tsa_model.py:527: ValueWarning: No frequency information was provided, so inferred frequency A-DEC will be used.\n",
            "  % freq, ValueWarning)\n",
            "/usr/local/lib/python3.7/dist-packages/statsmodels/tsa/base/tsa_model.py:527: ValueWarning: No frequency information was provided, so inferred frequency A-DEC will be used.\n",
            "  % freq, ValueWarning)\n",
            "/usr/local/lib/python3.7/dist-packages/statsmodels/tsa/kalmanf/kalmanfilter.py:220: RuntimeWarning: overflow encountered in square\n",
            "  Z_mat, R_mat, T_mat)\n"
          ]
        }
      ]
    },
    {
      "cell_type": "code",
      "source": [
        "Year = []\n",
        "\n",
        "for i in range(2022, 2022+Forecast_Years, 1):\n",
        "  Year.append(i)"
      ],
      "metadata": {
        "id": "WUiFKUddrPR-"
      },
      "execution_count": null,
      "outputs": []
    },
    {
      "cell_type": "code",
      "source": [
        "hsd = pd.DataFrame(hsd)\n",
        "hsd = hsd.transpose()\n",
        "Final_Prediction = hsd"
      ],
      "metadata": {
        "id": "_T01ueiNmf0P"
      },
      "execution_count": null,
      "outputs": []
    },
    {
      "cell_type": "code",
      "source": [
        "Final_Prediction['Years'] = Year\n",
        "SG= Final_Prediction.set_index('Years')"
      ],
      "metadata": {
        "id": "aHsmtO9Fr9KK"
      },
      "execution_count": null,
      "outputs": []
    },
    {
      "cell_type": "code",
      "source": [
        "SG.columns = ticker\n",
        "SG"
      ],
      "metadata": {
        "colab": {
          "base_uri": "https://localhost:8080/",
          "height": 455
        },
        "id": "v8mFEhyqy4mx",
        "outputId": "ab85a3df-26e6-44c4-c2ca-a54d102301bf"
      },
      "execution_count": null,
      "outputs": [
        {
          "output_type": "execute_result",
          "data": {
            "text/plain": [
              "       ECONOMICS:CHPOP\n",
              "Years                 \n",
              "2022      8.730220e+06\n",
              "2023      8.790624e+06\n",
              "2024      8.851185e+06\n",
              "2025      8.911879e+06\n",
              "2026      8.972686e+06\n",
              "...                ...\n",
              "2317      1.167809e+07\n",
              "2318      1.161969e+07\n",
              "2319      1.156112e+07\n",
              "2320      1.150237e+07\n",
              "2321      1.144346e+07\n",
              "\n",
              "[300 rows x 1 columns]"
            ],
            "text/html": [
              "\n",
              "  <div id=\"df-49740ce2-d129-44b2-a527-7a37f3c3e103\">\n",
              "    <div class=\"colab-df-container\">\n",
              "      <div>\n",
              "<style scoped>\n",
              "    .dataframe tbody tr th:only-of-type {\n",
              "        vertical-align: middle;\n",
              "    }\n",
              "\n",
              "    .dataframe tbody tr th {\n",
              "        vertical-align: top;\n",
              "    }\n",
              "\n",
              "    .dataframe thead th {\n",
              "        text-align: right;\n",
              "    }\n",
              "</style>\n",
              "<table border=\"1\" class=\"dataframe\">\n",
              "  <thead>\n",
              "    <tr style=\"text-align: right;\">\n",
              "      <th></th>\n",
              "      <th>ECONOMICS:CHPOP</th>\n",
              "    </tr>\n",
              "    <tr>\n",
              "      <th>Years</th>\n",
              "      <th></th>\n",
              "    </tr>\n",
              "  </thead>\n",
              "  <tbody>\n",
              "    <tr>\n",
              "      <th>2022</th>\n",
              "      <td>8.730220e+06</td>\n",
              "    </tr>\n",
              "    <tr>\n",
              "      <th>2023</th>\n",
              "      <td>8.790624e+06</td>\n",
              "    </tr>\n",
              "    <tr>\n",
              "      <th>2024</th>\n",
              "      <td>8.851185e+06</td>\n",
              "    </tr>\n",
              "    <tr>\n",
              "      <th>2025</th>\n",
              "      <td>8.911879e+06</td>\n",
              "    </tr>\n",
              "    <tr>\n",
              "      <th>2026</th>\n",
              "      <td>8.972686e+06</td>\n",
              "    </tr>\n",
              "    <tr>\n",
              "      <th>...</th>\n",
              "      <td>...</td>\n",
              "    </tr>\n",
              "    <tr>\n",
              "      <th>2317</th>\n",
              "      <td>1.167809e+07</td>\n",
              "    </tr>\n",
              "    <tr>\n",
              "      <th>2318</th>\n",
              "      <td>1.161969e+07</td>\n",
              "    </tr>\n",
              "    <tr>\n",
              "      <th>2319</th>\n",
              "      <td>1.156112e+07</td>\n",
              "    </tr>\n",
              "    <tr>\n",
              "      <th>2320</th>\n",
              "      <td>1.150237e+07</td>\n",
              "    </tr>\n",
              "    <tr>\n",
              "      <th>2321</th>\n",
              "      <td>1.144346e+07</td>\n",
              "    </tr>\n",
              "  </tbody>\n",
              "</table>\n",
              "<p>300 rows × 1 columns</p>\n",
              "</div>\n",
              "      <button class=\"colab-df-convert\" onclick=\"convertToInteractive('df-49740ce2-d129-44b2-a527-7a37f3c3e103')\"\n",
              "              title=\"Convert this dataframe to an interactive table.\"\n",
              "              style=\"display:none;\">\n",
              "        \n",
              "  <svg xmlns=\"http://www.w3.org/2000/svg\" height=\"24px\"viewBox=\"0 0 24 24\"\n",
              "       width=\"24px\">\n",
              "    <path d=\"M0 0h24v24H0V0z\" fill=\"none\"/>\n",
              "    <path d=\"M18.56 5.44l.94 2.06.94-2.06 2.06-.94-2.06-.94-.94-2.06-.94 2.06-2.06.94zm-11 1L8.5 8.5l.94-2.06 2.06-.94-2.06-.94L8.5 2.5l-.94 2.06-2.06.94zm10 10l.94 2.06.94-2.06 2.06-.94-2.06-.94-.94-2.06-.94 2.06-2.06.94z\"/><path d=\"M17.41 7.96l-1.37-1.37c-.4-.4-.92-.59-1.43-.59-.52 0-1.04.2-1.43.59L10.3 9.45l-7.72 7.72c-.78.78-.78 2.05 0 2.83L4 21.41c.39.39.9.59 1.41.59.51 0 1.02-.2 1.41-.59l7.78-7.78 2.81-2.81c.8-.78.8-2.07 0-2.86zM5.41 20L4 18.59l7.72-7.72 1.47 1.35L5.41 20z\"/>\n",
              "  </svg>\n",
              "      </button>\n",
              "      \n",
              "  <style>\n",
              "    .colab-df-container {\n",
              "      display:flex;\n",
              "      flex-wrap:wrap;\n",
              "      gap: 12px;\n",
              "    }\n",
              "\n",
              "    .colab-df-convert {\n",
              "      background-color: #E8F0FE;\n",
              "      border: none;\n",
              "      border-radius: 50%;\n",
              "      cursor: pointer;\n",
              "      display: none;\n",
              "      fill: #1967D2;\n",
              "      height: 32px;\n",
              "      padding: 0 0 0 0;\n",
              "      width: 32px;\n",
              "    }\n",
              "\n",
              "    .colab-df-convert:hover {\n",
              "      background-color: #E2EBFA;\n",
              "      box-shadow: 0px 1px 2px rgba(60, 64, 67, 0.3), 0px 1px 3px 1px rgba(60, 64, 67, 0.15);\n",
              "      fill: #174EA6;\n",
              "    }\n",
              "\n",
              "    [theme=dark] .colab-df-convert {\n",
              "      background-color: #3B4455;\n",
              "      fill: #D2E3FC;\n",
              "    }\n",
              "\n",
              "    [theme=dark] .colab-df-convert:hover {\n",
              "      background-color: #434B5C;\n",
              "      box-shadow: 0px 1px 3px 1px rgba(0, 0, 0, 0.15);\n",
              "      filter: drop-shadow(0px 1px 2px rgba(0, 0, 0, 0.3));\n",
              "      fill: #FFFFFF;\n",
              "    }\n",
              "  </style>\n",
              "\n",
              "      <script>\n",
              "        const buttonEl =\n",
              "          document.querySelector('#df-49740ce2-d129-44b2-a527-7a37f3c3e103 button.colab-df-convert');\n",
              "        buttonEl.style.display =\n",
              "          google.colab.kernel.accessAllowed ? 'block' : 'none';\n",
              "\n",
              "        async function convertToInteractive(key) {\n",
              "          const element = document.querySelector('#df-49740ce2-d129-44b2-a527-7a37f3c3e103');\n",
              "          const dataTable =\n",
              "            await google.colab.kernel.invokeFunction('convertToInteractive',\n",
              "                                                     [key], {});\n",
              "          if (!dataTable) return;\n",
              "\n",
              "          const docLinkHtml = 'Like what you see? Visit the ' +\n",
              "            '<a target=\"_blank\" href=https://colab.research.google.com/notebooks/data_table.ipynb>data table notebook</a>'\n",
              "            + ' to learn more about interactive tables.';\n",
              "          element.innerHTML = '';\n",
              "          dataTable['output_type'] = 'display_data';\n",
              "          await google.colab.output.renderOutput(dataTable, element);\n",
              "          const docLink = document.createElement('div');\n",
              "          docLink.innerHTML = docLinkHtml;\n",
              "          element.appendChild(docLink);\n",
              "        }\n",
              "      </script>\n",
              "    </div>\n",
              "  </div>\n",
              "  "
            ]
          },
          "metadata": {},
          "execution_count": 374
        }
      ]
    },
    {
      "cell_type": "code",
      "source": [
        "SG.plot(label = 'ticker')\n",
        "plt.title('GDP / Capita')\n",
        "plt.xlabel('Year')\n",
        "plt.ylabel('Income in $')                                                               #Plotting Projections\n",
        "plt.legend(loc= 'upper left')\n",
        "plt.grid(True)\n",
        "plt.show()"
      ],
      "metadata": {
        "colab": {
          "base_uri": "https://localhost:8080/",
          "height": 730
        },
        "id": "lacbMfeVmlUr",
        "outputId": "c5347315-0bc9-44d0-dd0d-dccfda89e126"
      },
      "execution_count": null,
      "outputs": [
        {
          "output_type": "display_data",
          "data": {
            "text/plain": [
              "<Figure size 1080x864 with 1 Axes>"
            ],
            "image/png": "[encoded data removed]"
          },
          "metadata": {
            "needs_background": "light"
          }
        }
      ]
    }
  ]
}